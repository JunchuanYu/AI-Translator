{
 "cells": [
  {
   "cell_type": "markdown",
   "metadata": {},
   "source": [
    "# AI-Translator\n",
    "This is an web app with an English/Chinese translation and grammar check function"
   ]
  },
  {
   "attachments": {},
   "cell_type": "markdown",
   "metadata": {},
   "source": [
    "install the following packages:"
   ]
  },
  {
   "cell_type": "code",
   "execution_count": null,
   "metadata": {},
   "outputs": [],
   "source": [
    "# !pip3 install torch==1.8.2+cu111 torchvision==0.9.2+cu111 torchaudio==0.8.2 -f https://download.pytorch.org/whl/lts/1.8/torch_lts.html\n",
    "# !pip3 install pip==20.1.1 \n",
    "# !pip3 install -U git+https://github.com/PrithivirajDamodaran/Gramformer.git\n",
    "# !pip install spacy\n",
    "# !python -m spacy download en\n",
    "# !pip install gradio\n",
    "# !pip install transformers\n",
    "# !pip install errant"
   ]
  },
  {
   "cell_type": "markdown",
   "metadata": {},
   "source": [
    "import depandancies"
   ]
  },
  {
   "cell_type": "code",
   "execution_count": 1,
   "metadata": {},
   "outputs": [
    {
     "data": {
      "text/plain": [
       "<spacy.lang.en.English at 0x22562131fd0>"
      ]
     },
     "execution_count": 1,
     "metadata": {},
     "output_type": "execute_result"
    }
   ],
   "source": [
    "from gramformer import Gramformer\n",
    "import spacy\n",
    "import gradio as gr\n",
    "from transformers import pipeline\n",
    "from gramformer import Gramformer\n",
    "spacy.load('en')\n",
    "# from spacy.lang.en import English"
   ]
  },
  {
   "cell_type": "markdown",
   "metadata": {},
   "source": [
    "define api for translation and grama check"
   ]
  },
  {
   "cell_type": "code",
   "execution_count": 2,
   "metadata": {},
   "outputs": [],
   "source": [
    "\n",
    "def extract_str(text):\n",
    "    text=str(text)\n",
    "    start = text.find(\"{'\")\n",
    "    end = text.find(\"'}\")\n",
    "    return text[start+2:end]\n",
    "    \n",
    "def gramacorrect(sentence):\n",
    "    gf = Gramformer(models=1, use_gpu=False)\n",
    "    res = gf.correct(sentence) # Gramformer correct\n",
    "    return extract_str(res) # Return first value in res array\n",
    "\n",
    "def translate_zh(from_text):\n",
    "    translation_pipeline = pipeline(\"translation\", model=\"Helsinki-NLP/opus-mt-en-zh\")\n",
    "    res = translation_pipeline(from_text)[0]      \n",
    "    return res['translation_text']\n",
    "\n",
    "def translate_en(from_text):\n",
    "    translation_pipeline = pipeline(\"translation\", model=\"Helsinki-NLP/opus-mt-zh-en\")\n",
    "    res = translation_pipeline(from_text)[0]      \n",
    "    return res['translation_text']\n",
    "\n",
    "def generator(from_text):\n",
    "    english_generator = pipeline(\"text-generation\", model=\"distilgpt2\")\n",
    "    english_text = english_generator(from_text)[0][\"generated_text\"]\n",
    "    return english_text"
   ]
  },
  {
   "cell_type": "markdown",
   "metadata": {},
   "source": [
    "build interface for web app"
   ]
  },
  {
   "cell_type": "code",
   "execution_count": 3,
   "metadata": {},
   "outputs": [
    {
     "name": "stdout",
     "output_type": "stream",
     "text": [
      "Running on local URL:  http://127.0.0.1:7860\n",
      "\n",
      "To create a public link, set `share=True` in `launch()`.\n"
     ]
    },
    {
     "data": {
      "text/html": [
       "<div><iframe src=\"http://127.0.0.1:7860/\" width=\"100%\" height=\"500\" allow=\"autoplay; camera; microphone; clipboard-read; clipboard-write;\" frameborder=\"0\" allowfullscreen></iframe></div>"
      ],
      "text/plain": [
       "<IPython.core.display.HTML object>"
      ]
     },
     "metadata": {},
     "output_type": "display_data"
    },
    {
     "data": {
      "text/plain": []
     },
     "execution_count": 3,
     "metadata": {},
     "output_type": "execute_result"
    },
    {
     "name": "stdout",
     "output_type": "stream",
     "text": [
      "[Gramformer] Grammar error correct/highlight model loaded..\n"
     ]
    }
   ],
   "source": [
    "\n",
    "with gr.Blocks() as demo:\n",
    "    with gr.Tab(\"Translator\"):\n",
    "        gr.Markdown(\"\"\"\n",
    "                    #### English to Chinese.\n",
    "                    \"\"\")\n",
    "\n",
    "        with gr.Row():\n",
    "            text_input1 = gr.Textbox(lines=4, placeholder=\"Enter sentence here...\")\n",
    "            chinese = gr.Textbox(lines=4, placeholder=\"Chinese\")\n",
    "        zh_button = gr.Button(\"RUN\")\n",
    "        gr.Markdown(\"\"\"\n",
    "                    #### Chinese to English.\n",
    "                    \"\"\")\n",
    "\n",
    "        with gr.Row():\n",
    "            text_input2 = gr.Textbox(lines=4, placeholder=\"Enter sentence here...\")\n",
    "            english = gr.Textbox(lines=4, placeholder=\"English\")\n",
    "        en_button = gr.Button(\"RUN\")            \n",
    "    \n",
    "    with gr.Tab(\"Gramachecker\"):\n",
    "        gr.Markdown(\"\"\"\n",
    "                    #### English grama checker.\n",
    "                    \"\"\")\n",
    "        with gr.Row():\n",
    "            text_input3 = gr.Textbox(lines=4, placeholder=\"Enter sentence here...\")\n",
    "            check = gr.Textbox(lines=4, placeholder=\"Grama Check\")\n",
    "        check_button = gr.Button(\"RUN\")\n",
    "\n",
    "        gr.Markdown(\"\"\"\n",
    "                    #### English text generator.\n",
    "                    \"\"\")\n",
    "        with gr.Row():\n",
    "            text_input4 = gr.Textbox(lines=2, placeholder=\"Enter sentence here...\")\n",
    "            txtgenerator = gr.Textbox(lines=6, placeholder=\"Text Generator\")\n",
    "        gen_button = gr.Button(\"RUN\")    \n",
    "\n",
    "\n",
    "\n",
    "    zh_button.click(translate_zh, inputs=text_input1, outputs=chinese)\n",
    "    en_button.click(translate_en, inputs=text_input2, outputs=english)\n",
    "    \n",
    "    check_button.click(gramacorrect, inputs=text_input3, outputs=check)\n",
    "    gen_button.click(generator, inputs=text_input4, outputs=txtgenerator)\n",
    "demo.launch()\n"
   ]
  },
  {
   "cell_type": "code",
   "execution_count": null,
   "metadata": {},
   "outputs": [],
   "source": []
  }
 ],
 "metadata": {
  "kernelspec": {
   "display_name": "torch",
   "language": "python",
   "name": "python3"
  },
  "language_info": {
   "codemirror_mode": {
    "name": "ipython",
    "version": 3
   },
   "file_extension": ".py",
   "mimetype": "text/x-python",
   "name": "python",
   "nbconvert_exporter": "python",
   "pygments_lexer": "ipython3",
   "version": "3.8.16 (default, Jan 17 2023, 22:25:28) [MSC v.1916 64 bit (AMD64)]"
  },
  "orig_nbformat": 4,
  "vscode": {
   "interpreter": {
    "hash": "f3b09f0dae079356b11e2992c8ce1698bd60fda55aea4c87f004ec164747e9c6"
   }
  }
 },
 "nbformat": 4,
 "nbformat_minor": 2
}
