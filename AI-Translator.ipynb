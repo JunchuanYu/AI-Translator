{
 "cells": [
  {
   "cell_type": "code",
   "execution_count": 1,
   "metadata": {},
   "outputs": [
    {
     "ename": "ImportError",
     "evalue": "tokenizers>=0.11.1,!=0.11.3,<0.14 is required for a normal functioning of this module, but found tokenizers==0.10.2.\nTry: pip install transformers -U or pip install -e '.[dev]' if you're working with git main",
     "output_type": "error",
     "traceback": [
      "\u001b[1;31m---------------------------------------------------------------------------\u001b[0m",
      "\u001b[1;31mImportError\u001b[0m                               Traceback (most recent call last)",
      "Cell \u001b[1;32mIn [1], line 2\u001b[0m\n\u001b[0;32m      1\u001b[0m \u001b[38;5;28;01mimport\u001b[39;00m \u001b[38;5;21;01mgradio\u001b[39;00m \u001b[38;5;28;01mas\u001b[39;00m \u001b[38;5;21;01mgr\u001b[39;00m\n\u001b[1;32m----> 2\u001b[0m \u001b[38;5;28;01mfrom\u001b[39;00m \u001b[38;5;21;01mtransformers\u001b[39;00m \u001b[38;5;28;01mimport\u001b[39;00m pipeline\n\u001b[0;32m      3\u001b[0m \u001b[38;5;28;01mfrom\u001b[39;00m \u001b[38;5;21;01mgramformer\u001b[39;00m \u001b[38;5;28;01mimport\u001b[39;00m Gramformer\n",
      "File \u001b[1;32mc:\\ProgramData\\Anaconda3\\envs\\tf20\\lib\\site-packages\\transformers\\__init__.py:30\u001b[0m\n\u001b[0;32m     27\u001b[0m \u001b[39mfrom\u001b[39;00m \u001b[39mtyping\u001b[39;00m \u001b[39mimport\u001b[39;00m TYPE_CHECKING\n\u001b[0;32m     29\u001b[0m \u001b[39m# Check the dependencies satisfy the minimal versions required.\u001b[39;00m\n\u001b[1;32m---> 30\u001b[0m \u001b[39mfrom\u001b[39;00m \u001b[39m.\u001b[39;00m \u001b[39mimport\u001b[39;00m dependency_versions_check\n\u001b[0;32m     31\u001b[0m \u001b[39mfrom\u001b[39;00m \u001b[39m.\u001b[39;00m\u001b[39mutils\u001b[39;00m \u001b[39mimport\u001b[39;00m (\n\u001b[0;32m     32\u001b[0m     OptionalDependencyNotAvailable,\n\u001b[0;32m     33\u001b[0m     _LazyModule,\n\u001b[1;32m   (...)\u001b[0m\n\u001b[0;32m     44\u001b[0m     logging,\n\u001b[0;32m     45\u001b[0m )\n\u001b[0;32m     48\u001b[0m logger \u001b[39m=\u001b[39m logging\u001b[39m.\u001b[39mget_logger(\u001b[39m__name__\u001b[39m)  \u001b[39m# pylint: disable=invalid-name\u001b[39;00m\n",
      "File \u001b[1;32mc:\\ProgramData\\Anaconda3\\envs\\tf20\\lib\\site-packages\\transformers\\dependency_versions_check.py:41\u001b[0m\n\u001b[0;32m     38\u001b[0m         \u001b[39mif\u001b[39;00m \u001b[39mnot\u001b[39;00m is_tokenizers_available():\n\u001b[0;32m     39\u001b[0m             \u001b[39mcontinue\u001b[39;00m  \u001b[39m# not required, check version only if installed\u001b[39;00m\n\u001b[1;32m---> 41\u001b[0m     require_version_core(deps[pkg])\n\u001b[0;32m     42\u001b[0m \u001b[39melse\u001b[39;00m:\n\u001b[0;32m     43\u001b[0m     \u001b[39mraise\u001b[39;00m \u001b[39mValueError\u001b[39;00m(\u001b[39mf\u001b[39m\u001b[39m\"\u001b[39m\u001b[39mcan\u001b[39m\u001b[39m'\u001b[39m\u001b[39mt find \u001b[39m\u001b[39m{\u001b[39;00mpkg\u001b[39m}\u001b[39;00m\u001b[39m in \u001b[39m\u001b[39m{\u001b[39;00mdeps\u001b[39m.\u001b[39mkeys()\u001b[39m}\u001b[39;00m\u001b[39m, check dependency_versions_table.py\u001b[39m\u001b[39m\"\u001b[39m)\n",
      "File \u001b[1;32mc:\\ProgramData\\Anaconda3\\envs\\tf20\\lib\\site-packages\\transformers\\utils\\versions.py:123\u001b[0m, in \u001b[0;36mrequire_version_core\u001b[1;34m(requirement)\u001b[0m\n\u001b[0;32m    121\u001b[0m \u001b[39m\"\"\"require_version wrapper which emits a core-specific hint on failure\"\"\"\u001b[39;00m\n\u001b[0;32m    122\u001b[0m hint \u001b[39m=\u001b[39m \u001b[39m\"\u001b[39m\u001b[39mTry: pip install transformers -U or pip install -e \u001b[39m\u001b[39m'\u001b[39m\u001b[39m.[dev]\u001b[39m\u001b[39m'\u001b[39m\u001b[39m if you\u001b[39m\u001b[39m'\u001b[39m\u001b[39mre working with git main\u001b[39m\u001b[39m\"\u001b[39m\n\u001b[1;32m--> 123\u001b[0m \u001b[39mreturn\u001b[39;00m require_version(requirement, hint)\n",
      "File \u001b[1;32mc:\\ProgramData\\Anaconda3\\envs\\tf20\\lib\\site-packages\\transformers\\utils\\versions.py:117\u001b[0m, in \u001b[0;36mrequire_version\u001b[1;34m(requirement, hint)\u001b[0m\n\u001b[0;32m    115\u001b[0m \u001b[39mif\u001b[39;00m want_ver \u001b[39mis\u001b[39;00m \u001b[39mnot\u001b[39;00m \u001b[39mNone\u001b[39;00m:\n\u001b[0;32m    116\u001b[0m     \u001b[39mfor\u001b[39;00m op, want_ver \u001b[39min\u001b[39;00m wanted\u001b[39m.\u001b[39mitems():\n\u001b[1;32m--> 117\u001b[0m         _compare_versions(op, got_ver, want_ver, requirement, pkg, hint)\n",
      "File \u001b[1;32mc:\\ProgramData\\Anaconda3\\envs\\tf20\\lib\\site-packages\\transformers\\utils\\versions.py:50\u001b[0m, in \u001b[0;36m_compare_versions\u001b[1;34m(op, got_ver, want_ver, requirement, pkg, hint)\u001b[0m\n\u001b[0;32m     45\u001b[0m     \u001b[39mraise\u001b[39;00m \u001b[39mValueError\u001b[39;00m(\n\u001b[0;32m     46\u001b[0m         \u001b[39mf\u001b[39m\u001b[39m\"\u001b[39m\u001b[39mUnable to compare versions for \u001b[39m\u001b[39m{\u001b[39;00mrequirement\u001b[39m}\u001b[39;00m\u001b[39m: need=\u001b[39m\u001b[39m{\u001b[39;00mwant_ver\u001b[39m}\u001b[39;00m\u001b[39m found=\u001b[39m\u001b[39m{\u001b[39;00mgot_ver\u001b[39m}\u001b[39;00m\u001b[39m. This is unusual. Consider\u001b[39m\u001b[39m\"\u001b[39m\n\u001b[0;32m     47\u001b[0m         \u001b[39mf\u001b[39m\u001b[39m\"\u001b[39m\u001b[39m reinstalling \u001b[39m\u001b[39m{\u001b[39;00mpkg\u001b[39m}\u001b[39;00m\u001b[39m.\u001b[39m\u001b[39m\"\u001b[39m\n\u001b[0;32m     48\u001b[0m     )\n\u001b[0;32m     49\u001b[0m \u001b[39mif\u001b[39;00m \u001b[39mnot\u001b[39;00m ops[op](version\u001b[39m.\u001b[39mparse(got_ver), version\u001b[39m.\u001b[39mparse(want_ver)):\n\u001b[1;32m---> 50\u001b[0m     \u001b[39mraise\u001b[39;00m \u001b[39mImportError\u001b[39;00m(\n\u001b[0;32m     51\u001b[0m         \u001b[39mf\u001b[39m\u001b[39m\"\u001b[39m\u001b[39m{\u001b[39;00mrequirement\u001b[39m}\u001b[39;00m\u001b[39m is required for a normal functioning of this module, but found \u001b[39m\u001b[39m{\u001b[39;00mpkg\u001b[39m}\u001b[39;00m\u001b[39m==\u001b[39m\u001b[39m{\u001b[39;00mgot_ver\u001b[39m}\u001b[39;00m\u001b[39m.\u001b[39m\u001b[39m{\u001b[39;00mhint\u001b[39m}\u001b[39;00m\u001b[39m\"\u001b[39m\n\u001b[0;32m     52\u001b[0m     )\n",
      "\u001b[1;31mImportError\u001b[0m: tokenizers>=0.11.1,!=0.11.3,<0.14 is required for a normal functioning of this module, but found tokenizers==0.10.2.\nTry: pip install transformers -U or pip install -e '.[dev]' if you're working with git main"
     ]
    }
   ],
   "source": [
    "import gradio as gr\n",
    "from transformers import pipeline\n",
    "from gramformer import Gramformer"
   ]
  },
  {
   "cell_type": "code",
   "execution_count": null,
   "metadata": {},
   "outputs": [
    {
     "ename": "OSError",
     "evalue": "[E050] Can't find model 'en'. It doesn't seem to be a shortcut link, a Python package or a valid path to a data directory.",
     "output_type": "error",
     "traceback": [
      "\u001b[1;31m---------------------------------------------------------------------------\u001b[0m",
      "\u001b[1;31mOSError\u001b[0m                                   Traceback (most recent call last)",
      "Cell \u001b[1;32mIn [4], line 1\u001b[0m\n\u001b[1;32m----> 1\u001b[0m gf \u001b[38;5;241m=\u001b[39m \u001b[43mGramformer\u001b[49m\u001b[43m(\u001b[49m\u001b[43mmodels\u001b[49m\u001b[38;5;241;43m=\u001b[39;49m\u001b[38;5;241;43m3\u001b[39;49m\u001b[43m,\u001b[49m\u001b[43m \u001b[49m\u001b[43muse_gpu\u001b[49m\u001b[38;5;241;43m=\u001b[39;49m\u001b[38;5;28;43;01mTrue\u001b[39;49;00m\u001b[43m)\u001b[49m \u001b[38;5;66;03m# 0 = detector, 1 = highlighter, 2 = corrector, 3 = all\u001b[39;00m\n\u001b[0;32m      2\u001b[0m \u001b[38;5;28;01mdef\u001b[39;00m \u001b[38;5;21mcorrect\u001b[39m(sentence):\n\u001b[0;32m      3\u001b[0m     res \u001b[38;5;241m=\u001b[39m gf\u001b[38;5;241m.\u001b[39mcorrect(sentence) \u001b[38;5;66;03m# Gramformer correct\u001b[39;00m\n",
      "File \u001b[1;32mc:\\Users\\Administrator\\OneDrive - odb\\Documents\\Github\\AI-Translator\\gramformer.py:8\u001b[0m, in \u001b[0;36mGramformer.__init__\u001b[1;34m(self, models, use_gpu)\u001b[0m\n\u001b[0;32m      6\u001b[0m \u001b[39m#from lm_scorer.models.auto import AutoLMScorer as LMScorer\u001b[39;00m\n\u001b[0;32m      7\u001b[0m \u001b[39mimport\u001b[39;00m \u001b[39merrant\u001b[39;00m\n\u001b[1;32m----> 8\u001b[0m \u001b[39mself\u001b[39m\u001b[39m.\u001b[39mannotator \u001b[39m=\u001b[39m errant\u001b[39m.\u001b[39;49mload(\u001b[39m'\u001b[39;49m\u001b[39men\u001b[39;49m\u001b[39m'\u001b[39;49m)\n\u001b[0;32m     10\u001b[0m \u001b[39mif\u001b[39;00m use_gpu:\n\u001b[0;32m     11\u001b[0m     device\u001b[39m=\u001b[39m \u001b[39m\"\u001b[39m\u001b[39mcuda:0\u001b[39m\u001b[39m\"\u001b[39m\n",
      "File \u001b[1;32mc:\\ProgramData\\Anaconda3\\envs\\tf20\\lib\\site-packages\\errant\\__init__.py:16\u001b[0m, in \u001b[0;36mload\u001b[1;34m(lang, nlp)\u001b[0m\n\u001b[0;32m     13\u001b[0m     \u001b[39mraise\u001b[39;00m \u001b[39mException\u001b[39;00m(\u001b[39m\"\u001b[39m\u001b[39m%s\u001b[39;00m\u001b[39m is an unsupported or unknown language\u001b[39m\u001b[39m\"\u001b[39m \u001b[39m%\u001b[39m lang)\n\u001b[0;32m     15\u001b[0m \u001b[39m# Load spacy\u001b[39;00m\n\u001b[1;32m---> 16\u001b[0m nlp \u001b[39m=\u001b[39m nlp \u001b[39mor\u001b[39;00m spacy\u001b[39m.\u001b[39;49mload(lang, disable\u001b[39m=\u001b[39;49m[\u001b[39m\"\u001b[39;49m\u001b[39mner\u001b[39;49m\u001b[39m\"\u001b[39;49m])\n\u001b[0;32m     18\u001b[0m \u001b[39m# Load language edit merger\u001b[39;00m\n\u001b[0;32m     19\u001b[0m merger \u001b[39m=\u001b[39m import_module(\u001b[39m\"\u001b[39m\u001b[39merrant.\u001b[39m\u001b[39m%s\u001b[39;00m\u001b[39m.merger\u001b[39m\u001b[39m\"\u001b[39m \u001b[39m%\u001b[39m lang)\n",
      "File \u001b[1;32mc:\\ProgramData\\Anaconda3\\envs\\tf20\\lib\\site-packages\\spacy\\__init__.py:30\u001b[0m, in \u001b[0;36mload\u001b[1;34m(name, **overrides)\u001b[0m\n\u001b[0;32m     28\u001b[0m \u001b[39mif\u001b[39;00m depr_path \u001b[39mnot\u001b[39;00m \u001b[39min\u001b[39;00m (\u001b[39mTrue\u001b[39;00m, \u001b[39mFalse\u001b[39;00m, \u001b[39mNone\u001b[39;00m):\n\u001b[0;32m     29\u001b[0m     warnings\u001b[39m.\u001b[39mwarn(Warnings\u001b[39m.\u001b[39mW001\u001b[39m.\u001b[39mformat(path\u001b[39m=\u001b[39mdepr_path), \u001b[39mDeprecationWarning\u001b[39;00m)\n\u001b[1;32m---> 30\u001b[0m \u001b[39mreturn\u001b[39;00m util\u001b[39m.\u001b[39;49mload_model(name, \u001b[39m*\u001b[39;49m\u001b[39m*\u001b[39;49moverrides)\n",
      "File \u001b[1;32mc:\\ProgramData\\Anaconda3\\envs\\tf20\\lib\\site-packages\\spacy\\util.py:175\u001b[0m, in \u001b[0;36mload_model\u001b[1;34m(name, **overrides)\u001b[0m\n\u001b[0;32m    173\u001b[0m \u001b[39melif\u001b[39;00m \u001b[39mhasattr\u001b[39m(name, \u001b[39m\"\u001b[39m\u001b[39mexists\u001b[39m\u001b[39m\"\u001b[39m):  \u001b[39m# Path or Path-like to model data\u001b[39;00m\n\u001b[0;32m    174\u001b[0m     \u001b[39mreturn\u001b[39;00m load_model_from_path(name, \u001b[39m*\u001b[39m\u001b[39m*\u001b[39moverrides)\n\u001b[1;32m--> 175\u001b[0m \u001b[39mraise\u001b[39;00m \u001b[39mIOError\u001b[39;00m(Errors\u001b[39m.\u001b[39mE050\u001b[39m.\u001b[39mformat(name\u001b[39m=\u001b[39mname))\n",
      "\u001b[1;31mOSError\u001b[0m: [E050] Can't find model 'en'. It doesn't seem to be a shortcut link, a Python package or a valid path to a data directory."
     ]
    }
   ],
   "source": [
    "gf = Gramformer(models=3, use_gpu=True) # 0 = detector, 1 = highlighter, 2 = corrector, 3 = all\n",
    "def correct(sentence):\n",
    "    res = gf.correct(sentence) # Gramformer correct\n",
    "    return res[0] # Return first value in res array\n",
    "\n",
    "def translate_transformers(model_choice, from_text):\n",
    "    # initialize pipeline with the translation model we want to use\n",
    "    if model_choice == \"English to Chinese\":\n",
    "        translation_pipeline = pipeline(\"translation\", model=\"Helsinki-NLP/opus-mt-en-zh\")\n",
    "    elif model_choice == \"Chinese to English\":\n",
    "        translation_pipeline = pipeline(\"translation\", model=\"Helsinki-NLP/opus-mt-zh-en\")\n",
    "    \n",
    "    # translate the text\n",
    "    res = translation_pipeline(from_text)[0]\n",
    "        \n",
    "    # extract and return the translated text\n",
    "    return res['translation_text']\n",
    "\n",
    "\n",
    "interface = gr.Interface(\n",
    "    fn=translate_transformers,\n",
    "    title=\"Choose language translation\",\n",
    "    inputs=[\n",
    "        gr.inputs.Dropdown([\"English to Chinese\", \"Chinese to English\"]),\n",
    "        # gr.inputs.Textbox(lines=2, placeholder='Text to translate'),\n",
    "        gr.inputs.Textbox(lines=6, placeholder=\"Enter sentence here...\")\n",
    "    ],\n",
    "    outputs=\"text\"\n",
    ")\n",
    "\n",
    "interface.launch()"
   ]
  },
  {
   "cell_type": "code",
   "execution_count": 3,
   "metadata": {},
   "outputs": [
    {
     "name": "stdout",
     "output_type": "stream",
     "text": [
      "Collecting errant\n",
      "  Downloading errant-2.3.3-py3-none-any.whl (499 kB)\n",
      "Collecting rapidfuzz>=2.0.0\n",
      "  Downloading rapidfuzz-2.13.7-cp38-cp38-win_amd64.whl (1.0 MB)\n",
      "Collecting spacy<3,>=2.2.0\n",
      "  Downloading spacy-2.3.9-cp38-cp38-win_amd64.whl (9.4 MB)\n",
      "Collecting blis<0.8.0,>=0.4.0\n",
      "  Downloading blis-0.7.9-cp38-cp38-win_amd64.whl (7.0 MB)\n",
      "Collecting srsly<1.1.0,>=1.0.2\n",
      "  Downloading srsly-1.0.6-cp38-cp38-win_amd64.whl (198 kB)\n",
      "Requirement already satisfied: tqdm<5.0.0,>=4.38.0 in c:\\programdata\\anaconda3\\envs\\tf20\\lib\\site-packages (from spacy<3,>=2.2.0->errant) (4.64.1)\n",
      "Collecting catalogue<1.1.0,>=0.0.7\n",
      "  Downloading catalogue-1.0.2-py2.py3-none-any.whl (16 kB)\n",
      "Collecting thinc<7.5.0,>=7.4.1\n",
      "  Downloading thinc-7.4.6-cp38-cp38-win_amd64.whl (831 kB)\n",
      "Requirement already satisfied: setuptools in c:\\programdata\\anaconda3\\envs\\tf20\\lib\\site-packages (from spacy<3,>=2.2.0->errant) (61.2.0)\n",
      "Requirement already satisfied: numpy>=1.15.0 in c:\\programdata\\anaconda3\\envs\\tf20\\lib\\site-packages (from spacy<3,>=2.2.0->errant) (1.22.4)\n",
      "Collecting murmurhash<1.1.0,>=0.28.0\n",
      "  Downloading murmurhash-1.0.9-cp38-cp38-win_amd64.whl (18 kB)\n",
      "Collecting plac<1.2.0,>=0.9.6\n",
      "  Downloading plac-1.1.3-py2.py3-none-any.whl (20 kB)\n",
      "Requirement already satisfied: requests<3.0.0,>=2.13.0 in c:\\programdata\\anaconda3\\envs\\tf20\\lib\\site-packages (from spacy<3,>=2.2.0->errant) (2.28.1)\n",
      "Collecting wasabi<1.1.0,>=0.4.0\n",
      "  Downloading wasabi-0.10.1-py3-none-any.whl (26 kB)\n",
      "Collecting preshed<3.1.0,>=3.0.2\n",
      "  Downloading preshed-3.0.8-cp38-cp38-win_amd64.whl (96 kB)\n",
      "Collecting cymem<2.1.0,>=2.0.2\n",
      "  Downloading cymem-2.0.7-cp38-cp38-win_amd64.whl (30 kB)\n",
      "Requirement already satisfied: certifi>=2017.4.17 in c:\\programdata\\anaconda3\\envs\\tf20\\lib\\site-packages (from requests<3.0.0,>=2.13.0->spacy<3,>=2.2.0->errant) (2022.9.24)\n",
      "Requirement already satisfied: charset-normalizer<3,>=2 in c:\\programdata\\anaconda3\\envs\\tf20\\lib\\site-packages (from requests<3.0.0,>=2.13.0->spacy<3,>=2.2.0->errant) (2.1.0)\n",
      "Requirement already satisfied: urllib3<1.27,>=1.21.1 in c:\\programdata\\anaconda3\\envs\\tf20\\lib\\site-packages (from requests<3.0.0,>=2.13.0->spacy<3,>=2.2.0->errant) (1.26.10)\n",
      "Requirement already satisfied: idna<4,>=2.5 in c:\\programdata\\anaconda3\\envs\\tf20\\lib\\site-packages (from requests<3.0.0,>=2.13.0->spacy<3,>=2.2.0->errant) (3.3)\n",
      "Requirement already satisfied: colorama in c:\\programdata\\anaconda3\\envs\\tf20\\lib\\site-packages (from tqdm<5.0.0,>=4.38.0->spacy<3,>=2.2.0->errant) (0.4.5)\n",
      "Installing collected packages: murmurhash, cymem, wasabi, srsly, preshed, plac, catalogue, blis, thinc, spacy, rapidfuzz, errant\n",
      "Successfully installed blis-0.7.9 catalogue-1.0.2 cymem-2.0.7 errant-2.3.3 murmurhash-1.0.9 plac-1.1.3 preshed-3.0.8 rapidfuzz-2.13.7 spacy-2.3.9 srsly-1.0.6 thinc-7.4.6 wasabi-0.10.1\n"
     ]
    }
   ],
   "source": [
    "!pip install errant"
   ]
  },
  {
   "cell_type": "code",
   "execution_count": null,
   "metadata": {},
   "outputs": [],
   "source": [
    "    #install_requires=['transformers', 'sentencepiece==0.1.95', 'python-Levenshtein==0.12.2', 'fuzzywuzzy==0.18.0',  'tokenizers==0.10.2', 'fsspec==2021.5.0', 'lm-scorer==0.4.2', 'errant'],\n"
   ]
  },
  {
   "cell_type": "code",
   "execution_count": 2,
   "metadata": {},
   "outputs": [],
   "source": [
    "!pip install tokenizers>=0.11.2"
   ]
  },
  {
   "cell_type": "code",
   "execution_count": 2,
   "metadata": {},
   "outputs": [
    {
     "name": "stdout",
     "output_type": "stream",
     "text": [
      "Requirement already satisfied: transformers in c:\\programdata\\anaconda3\\envs\\tf20\\lib\\site-packages (4.26.1)\n",
      "Requirement already satisfied: tqdm>=4.27 in c:\\programdata\\anaconda3\\envs\\tf20\\lib\\site-packages (from transformers) (4.64.1)\n",
      "Requirement already satisfied: huggingface-hub<1.0,>=0.11.0 in c:\\programdata\\anaconda3\\envs\\tf20\\lib\\site-packages (from transformers) (0.12.1)\n",
      "Requirement already satisfied: numpy>=1.17 in c:\\programdata\\anaconda3\\envs\\tf20\\lib\\site-packages (from transformers) (1.22.4)\n",
      "Requirement already satisfied: regex!=2019.12.17 in c:\\programdata\\anaconda3\\envs\\tf20\\lib\\site-packages (from transformers) (2022.10.31)\n",
      "Requirement already satisfied: pyyaml>=5.1 in c:\\programdata\\anaconda3\\envs\\tf20\\lib\\site-packages (from transformers) (6.0)\n",
      "Requirement already satisfied: packaging>=20.0 in c:\\programdata\\anaconda3\\envs\\tf20\\lib\\site-packages (from transformers) (21.3)\n",
      "Requirement already satisfied: requests in c:\\programdata\\anaconda3\\envs\\tf20\\lib\\site-packages (from transformers) (2.28.1)\n",
      "Requirement already satisfied: filelock in c:\\programdata\\anaconda3\\envs\\tf20\\lib\\site-packages (from transformers) (3.9.0)\n",
      "Collecting tokenizers!=0.11.3,<0.14,>=0.11.1\n",
      "  Using cached tokenizers-0.13.2-cp38-cp38-win_amd64.whl (3.3 MB)\n",
      "Requirement already satisfied: typing-extensions>=3.7.4.3 in c:\\programdata\\anaconda3\\envs\\tf20\\lib\\site-packages (from huggingface-hub<1.0,>=0.11.0->transformers) (4.3.0)\n",
      "Requirement already satisfied: pyparsing!=3.0.5,>=2.0.2 in c:\\programdata\\anaconda3\\envs\\tf20\\lib\\site-packages (from packaging>=20.0->transformers) (3.0.9)\n",
      "Requirement already satisfied: colorama in c:\\programdata\\anaconda3\\envs\\tf20\\lib\\site-packages (from tqdm>=4.27->transformers) (0.4.5)\n",
      "Requirement already satisfied: idna<4,>=2.5 in c:\\programdata\\anaconda3\\envs\\tf20\\lib\\site-packages (from requests->transformers) (3.3)\n",
      "Requirement already satisfied: charset-normalizer<3,>=2 in c:\\programdata\\anaconda3\\envs\\tf20\\lib\\site-packages (from requests->transformers) (2.1.0)\n",
      "Requirement already satisfied: certifi>=2017.4.17 in c:\\programdata\\anaconda3\\envs\\tf20\\lib\\site-packages (from requests->transformers) (2022.9.24)\n",
      "Requirement already satisfied: urllib3<1.27,>=1.21.1 in c:\\programdata\\anaconda3\\envs\\tf20\\lib\\site-packages (from requests->transformers) (1.26.10)\n",
      "Installing collected packages: tokenizers\n",
      "  Attempting uninstall: tokenizers\n",
      "    Found existing installation: tokenizers 0.10.2\n",
      "    Uninstalling tokenizers-0.10.2:\n",
      "      Successfully uninstalled tokenizers-0.10.2\n",
      "Successfully installed tokenizers-0.13.2\n"
     ]
    }
   ],
   "source": [
    "!pip install transformers -U"
   ]
  },
  {
   "cell_type": "code",
   "execution_count": null,
   "metadata": {},
   "outputs": [],
   "source": []
  }
 ],
 "metadata": {
  "kernelspec": {
   "display_name": "Python 3.8.13 ('tf20')",
   "language": "python",
   "name": "python3"
  },
  "language_info": {
   "codemirror_mode": {
    "name": "ipython",
    "version": 3
   },
   "file_extension": ".py",
   "mimetype": "text/x-python",
   "name": "python",
   "nbconvert_exporter": "python",
   "pygments_lexer": "ipython3",
   "version": "3.8.13"
  },
  "orig_nbformat": 4,
  "vscode": {
   "interpreter": {
    "hash": "8101b6a7214e5ce795d2c74d88870ac06bb3b27604bad07b63dd0e2fa73bbbd6"
   }
  }
 },
 "nbformat": 4,
 "nbformat_minor": 2
}
