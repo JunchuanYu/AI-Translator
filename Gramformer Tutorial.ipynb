{
 "cells": [
  {
   "cell_type": "markdown",
   "metadata": {},
   "source": [
    "# 1. Install and Import Dependencies"
   ]
  },
  {
   "cell_type": "code",
   "execution_count": null,
   "metadata": {},
   "outputs": [],
   "source": [
    "!pip install torch==1.8.1+cu111 torchvision==0.9.1+cu111 torchaudio===0.8.1 -f https://download.pytorch.org/whl/lts/1.8/torch_lts.html"
   ]
  },
  {
   "cell_type": "code",
   "execution_count": null,
   "metadata": {},
   "outputs": [],
   "source": [
    "!pip install git+https://github.com/PrithivirajDamodaran/Gramformer.git"
   ]
  },
  {
   "cell_type": "code",
   "execution_count": 3,
   "metadata": {},
   "outputs": [],
   "source": [
    "from gramformer import Gramformer"
   ]
  },
  {
   "cell_type": "markdown",
   "metadata": {},
   "source": [
    "# 2. Instantiate Gramformer"
   ]
  },
  {
   "cell_type": "code",
   "execution_count": 4,
   "metadata": {},
   "outputs": [
    {
     "name": "stdout",
     "output_type": "stream",
     "text": [
      "[Gramformer] All models loaded..\n"
     ]
    }
   ],
   "source": [
    "gf = Gramformer(models=3, use_gpu=True) # 0 = detector, 1 = highlighter, 2 = corrector, 3 = all"
   ]
  },
  {
   "cell_type": "markdown",
   "metadata": {},
   "source": [
    "# 3. Run Correction"
   ]
  },
  {
   "cell_type": "code",
   "execution_count": 8,
   "metadata": {},
   "outputs": [
    {
     "data": {
      "text/plain": [
       "['My camera battery is dead']"
      ]
     },
     "execution_count": 8,
     "metadata": {},
     "output_type": "execute_result"
    }
   ],
   "source": [
    "gf.correct('My camera battery a dead')"
   ]
  },
  {
   "cell_type": "code",
   "execution_count": 10,
   "metadata": {},
   "outputs": [],
   "source": [
    "sentences = [\n",
    "    'I like for walks', \n",
    "    'World is flat', \n",
    "    'Red a color', \n",
    "    'I wish my Computer was run faster.'\n",
    "]"
   ]
  },
  {
   "cell_type": "code",
   "execution_count": 12,
   "metadata": {},
   "outputs": [
    {
     "name": "stdout",
     "output_type": "stream",
     "text": [
      "I like to go for walks\n",
      "The world is flat\n",
      "Red.\n",
      "I wish my Computer would run faster.\n"
     ]
    }
   ],
   "source": [
    "for sentence in sentences:\n",
    "    res = gf.correct(sentence)\n",
    "    print(res[0])"
   ]
  },
  {
   "cell_type": "markdown",
   "metadata": {},
   "source": [
    "# 4. Putting it Together with Gradio"
   ]
  },
  {
   "cell_type": "code",
   "execution_count": null,
   "metadata": {},
   "outputs": [],
   "source": [
    "!pip install gradio"
   ]
  },
  {
   "cell_type": "code",
   "execution_count": 14,
   "metadata": {},
   "outputs": [],
   "source": [
    "import gradio as gr"
   ]
  },
  {
   "cell_type": "code",
   "execution_count": 15,
   "metadata": {},
   "outputs": [],
   "source": [
    "def correct(sentence):\n",
    "    res = gf.correct(sentence) # Gramformer correct\n",
    "    return res[0] # Return first value in res array"
   ]
  },
  {
   "cell_type": "code",
   "execution_count": 22,
   "metadata": {},
   "outputs": [],
   "source": [
    "app_inputs = gr.inputs.Textbox(lines=2, placeholder=\"Enter sentence here...\")"
   ]
  },
  {
   "cell_type": "code",
   "execution_count": 23,
   "metadata": {},
   "outputs": [],
   "source": [
    "interface = gr.Interface(fn=correct, \n",
    "                        inputs=app_inputs,\n",
    "                         outputs='text', \n",
    "                        title='Sup, I\\'m Gramformer')"
   ]
  },
  {
   "cell_type": "code",
   "execution_count": 24,
   "metadata": {},
   "outputs": [
    {
     "name": "stdout",
     "output_type": "stream",
     "text": [
      "Running locally at: http://127.0.0.1:7860/\n",
      "To create a public link, set `share=True` in `launch()`.\n",
      "Interface loading below...\n"
     ]
    },
    {
     "data": {
      "text/html": [
       "\n",
       "        <iframe\n",
       "            width=\"900\"\n",
       "            height=\"500\"\n",
       "            src=\"http://127.0.0.1:7860/\"\n",
       "            frameborder=\"0\"\n",
       "            allowfullscreen\n",
       "        ></iframe>\n",
       "        "
      ],
      "text/plain": [
       "<IPython.lib.display.IFrame at 0x265a2b07860>"
      ]
     },
     "metadata": {},
     "output_type": "display_data"
    },
    {
     "data": {
      "text/plain": [
       "(<Flask 'gradio.networking'>, 'http://127.0.0.1:7860/', None)"
      ]
     },
     "execution_count": 24,
     "metadata": {},
     "output_type": "execute_result"
    }
   ],
   "source": [
    "interface.launch()"
   ]
  },
  {
   "cell_type": "code",
   "execution_count": null,
   "metadata": {},
   "outputs": [],
   "source": [
    "gf = Gramformer(models=1, use_gpu=True) # 0 = detector, 1 = highlighter, 2 = corrector, 3 = all\n",
    "### extract the  str between string symbol \"{\"\"\" and \"\"}\"\"\n",
    "def extract_str(text):\n",
    "    text=str(text)\n",
    "    start = text.find(\"{'\")\n",
    "    end = text.find(\"'}\")\n",
    "    return text[start+2:end]\n",
    "    \n",
    "def correct(sentence):\n",
    "    res = gf.correct(sentence) # Gramformer correct\n",
    "    return res # Return first value in res array\n",
    "\n",
    "def translate_transformers(model_choice, from_text):\n",
    "    # initialize pipeline with the translation model we want to use\n",
    "    if model_choice == \"English to Chinese\":\n",
    "        translation_pipeline = pipeline(\"translation\", model=\"Helsinki-NLP/opus-mt-en-zh\")\n",
    "        res = translation_pipeline(from_text)[0]      \n",
    "        return res['translation_text']\n",
    "    elif model_choice == \"Chinese to English\":\n",
    "        translation_pipeline = pipeline(\"translation\", model=\"Helsinki-NLP/opus-mt-zh-en\")\n",
    "        res = translation_pipeline(from_text)[0]      \n",
    "        return res['translation_text']\n",
    "    elif model_choice ==\"Gramacheck\":\n",
    "        translation_pipeline = correct(from_text)\n",
    "        return extract_str(translation_pipeline)\n",
    "    \n",
    "\n",
    "interface = gr.Interface(\n",
    "    fn=translate_transformers,\n",
    "    title=\"Choose language translation\",\n",
    "    inputs=[\n",
    "        gr.inputs.Dropdown([\"English to Chinese\", \"Chinese to English\", \"Gramacheck\"]),\n",
    "        # gr.inputs.Textbox(lines=2, placeholder='Text to translate'),\n",
    "        gr.inputs.Textbox(lines=4, placeholder=\"Enter sentence here...\")\n",
    "    ],\n",
    "    outputs=\"text\"\n",
    ")\n",
    "\n",
    "interface.launch()"
   ]
  }
 ],
 "metadata": {
  "kernelspec": {
   "display_name": "gramformer",
   "language": "python",
   "name": "gramformer"
  },
  "language_info": {
   "codemirror_mode": {
    "name": "ipython",
    "version": 3
   },
   "file_extension": ".py",
   "mimetype": "text/x-python",
   "name": "python",
   "nbconvert_exporter": "python",
   "pygments_lexer": "ipython3",
   "version": "3.7.3"
  }
 },
 "nbformat": 4,
 "nbformat_minor": 2
}
